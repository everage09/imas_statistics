{
 "cells": [
  {
   "cell_type": "code",
   "execution_count": 263,
   "id": "1f8fbbc0",
   "metadata": {},
   "outputs": [
    {
     "data": {
      "text/html": [
       "        <script type=\"text/javascript\">\n",
       "        window.PlotlyConfig = {MathJaxConfig: 'local'};\n",
       "        if (window.MathJax && window.MathJax.Hub && window.MathJax.Hub.Config) {window.MathJax.Hub.Config({SVG: {font: \"STIX-Web\"}});}\n",
       "        if (typeof require !== 'undefined') {\n",
       "        require.undef(\"plotly\");\n",
       "        requirejs.config({\n",
       "            paths: {\n",
       "                'plotly': ['https://cdn.plot.ly/plotly-2.14.0.min']\n",
       "            }\n",
       "        });\n",
       "        require(['plotly'], function(Plotly) {\n",
       "            window._Plotly = Plotly;\n",
       "        });\n",
       "        }\n",
       "        </script>\n",
       "        "
      ]
     },
     "metadata": {},
     "output_type": "display_data"
    },
    {
     "data": {
      "text/html": [
       "        <script type=\"text/javascript\">\n",
       "        window.PlotlyConfig = {MathJaxConfig: 'local'};\n",
       "        if (window.MathJax && window.MathJax.Hub && window.MathJax.Hub.Config) {window.MathJax.Hub.Config({SVG: {font: \"STIX-Web\"}});}\n",
       "        if (typeof require !== 'undefined') {\n",
       "        require.undef(\"plotly\");\n",
       "        requirejs.config({\n",
       "            paths: {\n",
       "                'plotly': ['https://cdn.plot.ly/plotly-2.14.0.min']\n",
       "            }\n",
       "        });\n",
       "        require(['plotly'], function(Plotly) {\n",
       "            window._Plotly = Plotly;\n",
       "        });\n",
       "        }\n",
       "        </script>\n",
       "        "
      ]
     },
     "metadata": {},
     "output_type": "display_data"
    }
   ],
   "source": [
    "import warnings\n",
    "warnings.filterwarnings(\"ignore\")\n",
    "\n",
    "import pandas as pd\n",
    "import numpy as np\n",
    "import matplotlib.pyplot as plt\n",
    "import seaborn as sns\n",
    "import plotly as py\n",
    "import cufflinks as cf\n",
    "from plotly.offline import init_notebook_mode, iplot\n",
    "import plotly.express as px\n",
    "# for Notebooks\n",
    "init_notebook_mode(connected=True)\n",
    "# for offline use\n",
    "cf.go_offline()\n",
    "%matplotlib inline"
   ]
  },
  {
   "cell_type": "code",
   "execution_count": 229,
   "id": "9ab6a22f",
   "metadata": {},
   "outputs": [],
   "source": [
    "# special methods to display large DataFrames\n",
    "# credit goes to professor wonhee lee, Department of Software Convergence of Khyunghee University.\n",
    "import ipywidgets as widgets\n",
    "from ipywidgets import interact, interactive, fixed, interact_manual\n",
    "def df_interact(df, nrows=7, ncols=8):\n",
    "    '''\n",
    "    Outputs sliders that show rows and columns of df\n",
    "    '''\n",
    "    def peek(row=0, col=0):\n",
    "        return df.iloc[row:row + nrows, col:col + ncols]\n",
    "\n",
    "    row_arg = (0, len(df), nrows) if len(df) > nrows else fixed(0)\n",
    "    col_arg = ((0, len(df.columns), ncols)\n",
    "               if len(df.columns) > ncols else fixed(0))\n",
    "    \n",
    "    interact(peek, row=row_arg, col=col_arg)\n",
    "    print('({} rows, {} columns) total'.format(df.shape[0], df.shape[1]))\n",
    "\n",
    "def display_df(df, rows=pd.options.display.max_rows,\n",
    "               cols=pd.options.display.max_columns):\n",
    "    with pd.option_context('display.max_rows', rows,\n",
    "                           'display.max_columns', cols):\n",
    "        display(df)"
   ]
  },
  {
   "cell_type": "markdown",
   "id": "b526eff2",
   "metadata": {},
   "source": [
    "# Original data"
   ]
  },
  {
   "cell_type": "code",
   "execution_count": 105,
   "id": "6f4a3f80",
   "metadata": {},
   "outputs": [
    {
     "data": {
      "application/vnd.jupyter.widget-view+json": {
       "model_id": "69934e2b93524f9ab4e315f9ee08ca74",
       "version_major": 2,
       "version_minor": 0
      },
      "text/plain": [
       "interactive(children=(IntSlider(value=0, description='row', max=52, step=7), IntSlider(value=0, description='c…"
      ]
     },
     "metadata": {},
     "output_type": "display_data"
    },
    {
     "name": "stdout",
     "output_type": "stream",
     "text": [
      "(52 rows, 20 columns) total\n"
     ]
    }
   ],
   "source": [
    "idol_df = pd.read_csv(\"profiles.csv\", encoding=\"utf-8\", index_col=\"아이돌넘버\")\n",
    "df_interact(idol_df)"
   ]
  },
  {
   "cell_type": "markdown",
   "id": "63be4414",
   "metadata": {},
   "source": [
    "Types according to each idol"
   ]
  },
  {
   "cell_type": "code",
   "execution_count": 129,
   "id": "f6c73012",
   "metadata": {},
   "outputs": [],
   "source": [
    "princess = ['아마미 하루카','하기와라 유키호','키쿠치 마코토','가나하 히비키','카스가 미라이','타나카 코토하',\n",
    "            '사타케 미나코','토쿠가와 마츠리','나나오 유리코','타카야마 사요코','마츠다 아리사','코사카 우미',\n",
    "            '나카타니 이쿠','에밀리 스튜어트','야부키 카나','요코야마 나오','후쿠다 노리코']\n",
    "fairy = ['키사라기 치하야','미나세 이오리','시죠 타카네', '아키즈키 리츠코','모가미 시즈카',' 토코로 메구미',\n",
    "         '로코','텐쿠바시 토모카','키타자와 시호','마이하마 아유무','니카이도 치즈루',\n",
    "        '마카베 미즈키','모모세 리오','나가요시 스바루','스오 모모코','줄리아','시라이시 츠무기']\n",
    "angel = ['호시이 미키','타카츠키 야요이','미우라 아즈사', '후타미 아미', '후타미 마미','이부키 츠바사',\n",
    "         '시마바라 엘레나','하코자키 세리카','노노하라 아카네','모치즈키 안나','키노시타 히나타','바바 코노미',\n",
    "        '오오가미 타마키','토요카와 후우카','미야오 미야','시노미야 카렌','키타카미 레이카','사쿠라모리 카오리']"
   ]
  },
  {
   "cell_type": "markdown",
   "id": "f5427f24",
   "metadata": {},
   "source": [
    "# Data Cleaning\n",
    "\n",
    "It is found that some of codes remove desired data as well, but since the size of data is not big, lost data are manually recovered."
   ]
  },
  {
   "cell_type": "code",
   "execution_count": 162,
   "id": "56e39ee3",
   "metadata": {
    "scrolled": true
   },
   "outputs": [
    {
     "data": {
      "application/vnd.jupyter.widget-view+json": {
       "model_id": "1d272af4316e4d3fa44cfd77a9b9c4b7",
       "version_major": 2,
       "version_minor": 0
      },
      "text/plain": [
       "interactive(children=(IntSlider(value=0, description='row', max=52, step=7), IntSlider(value=0, description='c…"
      ]
     },
     "metadata": {},
     "output_type": "display_data"
    },
    {
     "name": "stdout",
     "output_type": "stream",
     "text": [
      "(52 rows, 20 columns) total\n"
     ]
    }
   ],
   "source": [
    "# Data Cleaning\n",
    "idol_df[\"이름\"] = idol_df[\"이름\"].str.split(\"[\").str[0]\n",
    "idol_df[\"한자\"] = idol_df[\"한자\"].str.split(\"[\").str[0]\n",
    "idol_df[\"히라가나/가타가나\"] = idol_df[\"히라가나/가타가나\"].str.split(\"[\").str[0]\n",
    "idol_df[\"나이\"] = idol_df[\"나이\"].str.split(\"[\").str[0]\n",
    "idol_df[\"키\"] = idol_df[\"키\"].str.split(\"[\").str[0]\n",
    "idol_df[\"몸무게\"] = idol_df[\"몸무게\"].str.split(\"[\").str[0]\n",
    "idol_df[\"B-W-H\"] = idol_df[\"B-W-H\"].str.split(\"[\").str[0]    # this part deletes some data, thus I manually refilled missing data.\n",
    "idol_df[\"생일\"] = idol_df[\"생일\"].str.split(\"[\").str[0]\n",
    "idol_df[\"별자리\"] = idol_df[\"별자리\"].str.split(\"[\").str[0]\n",
    "idol_df[\"혈액형\"] = idol_df[\"혈액형\"].str.split(\"[\").str[0]\n",
    "idol_df[\"자주 쓰는 손\"] = idol_df[\"자주 쓰는 손\"].str.split(\"[\").str[0]\n",
    "idol_df[\"출신지\"] = idol_df[\"출신지\"].str.split(\"[\").str[0]\n",
    "idol_df[\"취미\"] = idol_df[\"취미\"].str.split(\"[\").str[0]\n",
    "idol_df[\"특기\"] = idol_df[\"특기\"].str.split(\"[\").str[0]\n",
    "idol_df[\"특기\"][idol_df[\"특기\"] == '0'] = None\n",
    "idol_df[\"이미지 컬러 코드\"] = idol_df[\"이미지 컬러 코드\"].str.split(\"[\").str[0].str.split(\" \").str[-1]\n",
    "idol_df[\"성우\"] = idol_df[\"성우\"].str.split(\"[\").str[0]\n",
    "idol_df[\"좋아하는 것\"] = idol_df[\"좋아하는 것\"].str.split(\"[\").str[0]\n",
    "idol_df[\"닉네임\"] = idol_df[\"닉네임\"].str.split(\"[\").str[0]\n",
    "idol_df[\"투타\"] = idol_df[\"투타\"].str.split(\"[\").str[0]\n",
    "\n",
    "idol_df[\"타입\"][idol_df[\"이름\"].isin(princess)] = \"프린세스\"\n",
    "idol_df[\"타입\"][idol_df[\"이름\"].isin(fairy)] = \"페어리\"\n",
    "idol_df[\"타입\"][idol_df[\"이름\"].isin(angel)] = \"엔젤\"\n",
    "\n",
    "# save cleaned version\n",
    "idol_df.to_csv(\"Cleaned_Profile.csv\", encoding=\"utf-8\")\n",
    "idol_df.to_excel(\"Cleaned_Profile.xlsx\", encoding=\"utf-8\")\n",
    "df_interact(idol_df)"
   ]
  },
  {
   "cell_type": "code",
   "execution_count": 232,
   "id": "01e77e0c",
   "metadata": {},
   "outputs": [
    {
     "data": {
      "application/vnd.jupyter.widget-view+json": {
       "model_id": "d7fc61001ec24833b63cb2139ac02d11",
       "version_major": 2,
       "version_minor": 0
      },
      "text/plain": [
       "interactive(children=(IntSlider(value=0, description='row', max=52, step=7), IntSlider(value=0, description='c…"
      ]
     },
     "metadata": {},
     "output_type": "display_data"
    },
    {
     "name": "stdout",
     "output_type": "stream",
     "text": [
      "(52 rows, 22 columns) total\n"
     ]
    }
   ],
   "source": [
    "# Cleaning again for statistics\n",
    "# Only leave numeric values if possible\n",
    "stats = pd.read_excel(\"Cleaned_Profile.xlsx\", index_col=\"아이돌넘버\")\n",
    "\n",
    "# Age\n",
    "age = stats[\"나이\"].str.split(\"→\").str[-1].str.split(\"세\").str[0]\n",
    "stats[\"나이\"] = age\n",
    "stats[\"나이\"].astype(int)\n",
    "\n",
    "# Height\n",
    "height = stats[\"키\"].str.split(\"→\").str[-1].str.replace(\" \",\"\").str.rstrip(\"㎝\").str.rstrip(\"cm\")\n",
    "stats[\"키\"] = height\n",
    "stats[\"키\"].astype(int)\n",
    "\n",
    "# Weight\n",
    "weight = stats[\"몸무게\"].str.split(\"→\").str[-1].str.replace(\" \",\"\").str.rstrip(\"㎏\").str.rstrip(\"kg\")\n",
    "stats[\"몸무게\"] = weight\n",
    "stats[\"몸무게\"].astype(float)\n",
    "\n",
    "# B-W-H\n",
    "bsizes, wsizes, hsizes = stats[\"B-W-H\"].str.split(\"→\").str[-1].str.split(\"(\").str[0].str.split('/').str\n",
    "b = bsizes.str.strip().str.split(\" \").str[0]\n",
    "w = wsizes.str.strip().str.split(\" \").str[0]\n",
    "h = hsizes.str.strip().str.split(\" \").str[0]\n",
    "stats = stats.assign(B=b,W=w,H=h)\n",
    "stats = stats.drop(columns=[\"B-W-H\"])\n",
    "df_interact(stats)"
   ]
  },
  {
   "cell_type": "markdown",
   "id": "4b27fdc6",
   "metadata": {},
   "source": [
    "# Statistics"
   ]
  },
  {
   "cell_type": "code",
   "execution_count": 305,
   "id": "519cab10",
   "metadata": {
    "scrolled": true
   },
   "outputs": [
    {
     "data": {
      "image/png": "[encoded data removed]",
      "text/plain": [
       "<Figure size 400x400 with 1 Axes>"
      ]
     },
     "metadata": {},
     "output_type": "display_data"
    }
   ],
   "source": [
    "physical = stats[[\"나이\",\"키\",\"몸무게\",\"B\",'W','H','타입','이미지 컬러 코드']]\n",
    "physical[\"키\"] = physical['키'].astype(float)\n",
    "physical[\"몸무게\"] = physical['몸무게'].astype(float)\n",
    "physical[\"B\"] = physical['B'].astype(float)\n",
    "physical[\"W\"] = physical['W'].astype(float)\n",
    "physical[\"H\"] = physical['H'].astype(float)\n",
    "ax = physical.boxplot(by=\"타입\", column=\"키\", figsize=(4,4))\n",
    "ax.set_xlabel(\"Type\")\n",
    "ax.set_ylabel(\"Height\")\n",
    "plt.suptitle('Height distribution for idol types')\n",
    "plt.show()"
   ]
  },
  {
   "cell_type": "code",
   "execution_count": 313,
   "id": "7a93787c",
   "metadata": {},
   "outputs": [
    {
     "data": {
      "image/png": "[encoded data removed]",
      "text/plain": [
       "<Figure size 700x700 with 4 Axes>"
      ]
     },
     "metadata": {},
     "output_type": "display_data"
    }
   ],
   "source": [
    "physical.columns = [\"Age\",'Height','Weight','B',\"W\",'H', 'Type','Color_Code']\n",
    "groupby_type = physical.groupby(physical['Type'])\n",
    "ax = groupby_type.boxplot(figsize=(7,7))\n",
    "\n",
    "plt.tight_layout()"
   ]
  },
  {
   "cell_type": "code",
   "execution_count": 327,
   "id": "2d23ced2",
   "metadata": {},
   "outputs": [
    {
     "name": "stdout",
     "output_type": "stream",
     "text": [
      "169.0\n",
      "140.0\n",
      "156.6346153846154\n",
      "157.5\n",
      "6.511012830924583\n",
      "\n",
      "93.0\n",
      "72.0\n",
      "80.96153846153847\n",
      "81.0\n",
      "5.3393160260414145\n",
      "\n",
      "63.0\n",
      "51.0\n",
      "55.96153846153846\n",
      "56.0\n",
      "2.433117410201373\n",
      "\n",
      "92.0\n",
      "73.0\n",
      "81.09615384615384\n",
      "80.0\n",
      "4.353315686469722\n",
      "\n"
     ]
    }
   ],
   "source": [
    "print(physical[\"Height\"].max())\n",
    "print(physical[\"Height\"].min())\n",
    "print(physical[\"Height\"].mean())\n",
    "print(physical[\"Height\"].median())\n",
    "print(physical[\"Height\"].std())\n",
    "print()\n",
    "\n",
    "print(physical[\"B\"].max())\n",
    "print(physical[\"B\"].min())\n",
    "print(physical[\"B\"].mean())\n",
    "print(physical[\"B\"].median())\n",
    "print(physical[\"B\"].std())\n",
    "print()\n",
    "\n",
    "print(physical[\"W\"].max())\n",
    "print(physical[\"W\"].min())\n",
    "print(physical[\"W\"].mean())\n",
    "print(physical[\"W\"].median())\n",
    "print(physical[\"W\"].std())\n",
    "print()\n",
    "\n",
    "print(physical[\"H\"].max())\n",
    "print(physical[\"H\"].min())\n",
    "print(physical[\"H\"].mean())\n",
    "print(physical[\"H\"].median())\n",
    "print(physical[\"H\"].std())\n",
    "print()"
   ]
  }
 ],
 "metadata": {
  "kernelspec": {
   "display_name": "Python 3 (ipykernel)",
   "language": "python",
   "name": "python3"
  },
  "language_info": {
   "codemirror_mode": {
    "name": "ipython",
    "version": 3
   },
   "file_extension": ".py",
   "mimetype": "text/x-python",
   "name": "python",
   "nbconvert_exporter": "python",
   "pygments_lexer": "ipython3",
   "version": "3.10.6"
  }
 },
 "nbformat": 4,
 "nbformat_minor": 5
}
